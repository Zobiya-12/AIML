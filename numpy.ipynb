{
  "nbformat": 4,
  "nbformat_minor": 0,
  "metadata": {
    "colab": {
      "provenance": [],
      "authorship_tag": "ABX9TyNyuVJw1ygPATnZeWPzOR7x",
      "include_colab_link": true
    },
    "kernelspec": {
      "name": "python3",
      "display_name": "Python 3"
    },
    "language_info": {
      "name": "python"
    }
  },
  "cells": [
    {
      "cell_type": "markdown",
      "metadata": {
        "id": "view-in-github",
        "colab_type": "text"
      },
      "source": [
        "<a href=\"https://colab.research.google.com/github/Zobiya-12/AIML/blob/main/numpy.ipynb\" target=\"_parent\"><img src=\"https://colab.research.google.com/assets/colab-badge.svg\" alt=\"Open In Colab\"/></a>"
      ]
    },
    {
      "cell_type": "markdown",
      "source": [
        "Implementing Basic Data Structures using Numpy."
      ],
      "metadata": {
        "id": "gQgnLoXbLJGV"
      }
    },
    {
      "cell_type": "code",
      "execution_count": null,
      "metadata": {
        "colab": {
          "base_uri": "https://localhost:8080/"
        },
        "id": "DgtFmAhCBnPM",
        "outputId": "5e7ce62f-a803-4d2a-d5bf-8dbc9cd11758"
      },
      "outputs": [
        {
          "output_type": "stream",
          "name": "stdout",
          "text": [
            "[1 2 3 4 5 6]\n"
          ]
        }
      ],
      "source": [
        "#Implementing Lists using Numpy\n",
        "import numpy as np\n",
        "lst = [1,2,3,4,5,6]\n",
        "arr = np.array(lst)\n",
        "print(arr)"
      ]
    },
    {
      "cell_type": "code",
      "source": [
        "#Implementing Arrays using Numpy\n",
        "import numpy as np\n",
        "arr = np.array([1,2,3,4,5])\n",
        "print(arr)"
      ],
      "metadata": {
        "colab": {
          "base_uri": "https://localhost:8080/"
        },
        "id": "YF6qonVcD2tI",
        "outputId": "3268b434-430c-4557-aab2-510f83f05b27"
      },
      "execution_count": null,
      "outputs": [
        {
          "output_type": "stream",
          "name": "stdout",
          "text": [
            "[1 2 3 4 5]\n"
          ]
        }
      ]
    },
    {
      "cell_type": "code",
      "source": [
        "#Identifying type usinf \"type()\" method\n",
        "import numpy as np\n",
        "arr = np.array([1,2,3,4,5,6,7])\n",
        "print(type(arr))"
      ],
      "metadata": {
        "colab": {
          "base_uri": "https://localhost:8080/"
        },
        "id": "IZ0tpT4pEPcq",
        "outputId": "01540c02-ecb5-4f6e-b40c-f3076f21b91d"
      },
      "execution_count": null,
      "outputs": [
        {
          "output_type": "stream",
          "name": "stdout",
          "text": [
            "<class 'numpy.ndarray'>\n"
          ]
        }
      ]
    },
    {
      "cell_type": "code",
      "source": [
        "#Performing mathematical operations\n",
        "#1.Multiplication\n",
        "import numpy as np\n",
        "a = np.array([1,2,3])\n",
        "b = np.array([4,5,6])\n",
        "mul = np.multiply(a, b)\n",
        "print(mul)\n",
        "#2.division\n",
        "div = np.divide(a, b)\n",
        "print(div)\n",
        "#3.Poweroff\n",
        "power = np.power(a, b)\n",
        "print(power)"
      ],
      "metadata": {
        "colab": {
          "base_uri": "https://localhost:8080/"
        },
        "id": "rQiHJko7EmOQ",
        "outputId": "6ac46c9b-49b2-464c-e149-17d4c46cb68b"
      },
      "execution_count": null,
      "outputs": [
        {
          "output_type": "stream",
          "name": "stdout",
          "text": [
            "[ 4 10 18]\n",
            "[0.25 0.4  0.5 ]\n",
            "[  1  32 729]\n"
          ]
        }
      ]
    },
    {
      "cell_type": "code",
      "source": [
        "#Combine text with Numpy fucntion to generate a textual output\n",
        "import numpy as np\n",
        "text1 = np.array([\"Addition of Two: \"] , dtype = str)\n",
        "text2 = np.array([\"array1 + array2\"], dtype = str)\n",
        "fulltext = np.char.add(text1, text2)#gives element wise concatenation.\n",
        "print(fulltext)"
      ],
      "metadata": {
        "colab": {
          "base_uri": "https://localhost:8080/"
        },
        "id": "S6IJOi7hHPwt",
        "outputId": "6cc4d1a0-1bb1-49b9-84dc-a9bf98c8d25c"
      },
      "execution_count": null,
      "outputs": [
        {
          "output_type": "stream",
          "name": "stdout",
          "text": [
            "['Addition of Two: array1 + array2']\n"
          ]
        }
      ]
    },
    {
      "cell_type": "code",
      "source": [
        "#Implement np.sin(), log(), np.exp(), log2()\n",
        "import numpy as np\n",
        "a = np.array([1,2,3])\n",
        "sin = np.sin(a)\n",
        "print(sin)\n",
        "log = np.log(a)\n",
        "print(log)\n",
        "exp = np.exp(a)\n",
        "print(exp)\n",
        "log2 = np.log2(a)\n",
        "print(log2)"
      ],
      "metadata": {
        "colab": {
          "base_uri": "https://localhost:8080/"
        },
        "id": "qwS3iw6GJaGi",
        "outputId": "2eba17ee-beb5-4724-87a9-d6aa61b2175a"
      },
      "execution_count": null,
      "outputs": [
        {
          "output_type": "stream",
          "name": "stdout",
          "text": [
            "[0.84147098 0.90929743 0.14112001]\n",
            "[0.         0.69314718 1.09861229]\n",
            "[ 2.71828183  7.3890561  20.08553692]\n",
            "[0.        1.        1.5849625]\n"
          ]
        }
      ]
    }
  ]
}