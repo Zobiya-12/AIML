{
  "nbformat": 4,
  "nbformat_minor": 0,
  "metadata": {
    "colab": {
      "provenance": [],
      "authorship_tag": "ABX9TyOh+N3tg8jLnkX1K+i/qPB+",
      "include_colab_link": true
    },
    "kernelspec": {
      "name": "python3",
      "display_name": "Python 3"
    },
    "language_info": {
      "name": "python"
    }
  },
  "cells": [
    {
      "cell_type": "markdown",
      "metadata": {
        "id": "view-in-github",
        "colab_type": "text"
      },
      "source": [
        "<a href=\"https://colab.research.google.com/github/Zobiya-12/AIML/blob/main/Lab%20Exam.ipynb\" target=\"_parent\"><img src=\"https://colab.research.google.com/assets/colab-badge.svg\" alt=\"Open In Colab\"/></a>"
      ]
    },
    {
      "cell_type": "markdown",
      "source": [
        "#Lab Exam\n",
        "Assessing scientific articles using Paper reviews\n",
        "\n",
        "Q1: Identify the paper id which has most rated evaluation.\n",
        "\n",
        "Q2: List the top 5 papers with rating above 4 in different languages.\n",
        "\n",
        "Q3. Identify the highest and lowest confidence level of reviewer.\n",
        "\n",
        "Q4: Identify the min and max duration taken by review committee from prelimnary decision to acceptance or rejection?\n",
        "\n",
        "Q5: List top 10 keywords related to most rated papers ?\n"
      ],
      "metadata": {
        "id": "nWxeaSs58exV"
      }
    },
    {
      "cell_type": "code",
      "execution_count": 29,
      "metadata": {
        "colab": {
          "base_uri": "https://localhost:8080/",
          "height": 206
        },
        "id": "DCVcUp_s4Bwn",
        "outputId": "02517dde-05c0-4f32-c1cf-f87605d9ce27"
      },
      "outputs": [
        {
          "output_type": "execute_result",
          "data": {
            "text/plain": [
              "   Student ID Student Country  Question ID  Type of Answer Question Level  \\\n",
              "0         647         Ireland           77               0          Basic   \n",
              "1          41        Portugal           77               1          Basic   \n",
              "2         340        Portugal           77               1          Basic   \n",
              "3         641           Italy           77               0          Basic   \n",
              "4         669        Portugal           77               1          Basic   \n",
              "\n",
              "        Topic    Subtopic                                           Keywords  \n",
              "0  Statistics  Statistics  Stem and Leaf diagram,Relative frequency,Sampl...  \n",
              "1  Statistics  Statistics  Stem and Leaf diagram,Relative frequency,Sampl...  \n",
              "2  Statistics  Statistics  Stem and Leaf diagram,Relative frequency,Sampl...  \n",
              "3  Statistics  Statistics  Stem and Leaf diagram,Relative frequency,Sampl...  \n",
              "4  Statistics  Statistics  Stem and Leaf diagram,Relative frequency,Sampl...  "
            ],
            "text/html": [
              "\n",
              "  <div id=\"df-21ded327-cf69-42e3-89c0-9f05abc7ff75\" class=\"colab-df-container\">\n",
              "    <div>\n",
              "<style scoped>\n",
              "    .dataframe tbody tr th:only-of-type {\n",
              "        vertical-align: middle;\n",
              "    }\n",
              "\n",
              "    .dataframe tbody tr th {\n",
              "        vertical-align: top;\n",
              "    }\n",
              "\n",
              "    .dataframe thead th {\n",
              "        text-align: right;\n",
              "    }\n",
              "</style>\n",
              "<table border=\"1\" class=\"dataframe\">\n",
              "  <thead>\n",
              "    <tr style=\"text-align: right;\">\n",
              "      <th></th>\n",
              "      <th>Student ID</th>\n",
              "      <th>Student Country</th>\n",
              "      <th>Question ID</th>\n",
              "      <th>Type of Answer</th>\n",
              "      <th>Question Level</th>\n",
              "      <th>Topic</th>\n",
              "      <th>Subtopic</th>\n",
              "      <th>Keywords</th>\n",
              "    </tr>\n",
              "  </thead>\n",
              "  <tbody>\n",
              "    <tr>\n",
              "      <th>0</th>\n",
              "      <td>647</td>\n",
              "      <td>Ireland</td>\n",
              "      <td>77</td>\n",
              "      <td>0</td>\n",
              "      <td>Basic</td>\n",
              "      <td>Statistics</td>\n",
              "      <td>Statistics</td>\n",
              "      <td>Stem and Leaf diagram,Relative frequency,Sampl...</td>\n",
              "    </tr>\n",
              "    <tr>\n",
              "      <th>1</th>\n",
              "      <td>41</td>\n",
              "      <td>Portugal</td>\n",
              "      <td>77</td>\n",
              "      <td>1</td>\n",
              "      <td>Basic</td>\n",
              "      <td>Statistics</td>\n",
              "      <td>Statistics</td>\n",
              "      <td>Stem and Leaf diagram,Relative frequency,Sampl...</td>\n",
              "    </tr>\n",
              "    <tr>\n",
              "      <th>2</th>\n",
              "      <td>340</td>\n",
              "      <td>Portugal</td>\n",
              "      <td>77</td>\n",
              "      <td>1</td>\n",
              "      <td>Basic</td>\n",
              "      <td>Statistics</td>\n",
              "      <td>Statistics</td>\n",
              "      <td>Stem and Leaf diagram,Relative frequency,Sampl...</td>\n",
              "    </tr>\n",
              "    <tr>\n",
              "      <th>3</th>\n",
              "      <td>641</td>\n",
              "      <td>Italy</td>\n",
              "      <td>77</td>\n",
              "      <td>0</td>\n",
              "      <td>Basic</td>\n",
              "      <td>Statistics</td>\n",
              "      <td>Statistics</td>\n",
              "      <td>Stem and Leaf diagram,Relative frequency,Sampl...</td>\n",
              "    </tr>\n",
              "    <tr>\n",
              "      <th>4</th>\n",
              "      <td>669</td>\n",
              "      <td>Portugal</td>\n",
              "      <td>77</td>\n",
              "      <td>1</td>\n",
              "      <td>Basic</td>\n",
              "      <td>Statistics</td>\n",
              "      <td>Statistics</td>\n",
              "      <td>Stem and Leaf diagram,Relative frequency,Sampl...</td>\n",
              "    </tr>\n",
              "  </tbody>\n",
              "</table>\n",
              "</div>\n",
              "    <div class=\"colab-df-buttons\">\n",
              "\n",
              "  <div class=\"colab-df-container\">\n",
              "    <button class=\"colab-df-convert\" onclick=\"convertToInteractive('df-21ded327-cf69-42e3-89c0-9f05abc7ff75')\"\n",
              "            title=\"Convert this dataframe to an interactive table.\"\n",
              "            style=\"display:none;\">\n",
              "\n",
              "  <svg xmlns=\"http://www.w3.org/2000/svg\" height=\"24px\" viewBox=\"0 -960 960 960\">\n",
              "    <path d=\"M120-120v-720h720v720H120Zm60-500h600v-160H180v160Zm220 220h160v-160H400v160Zm0 220h160v-160H400v160ZM180-400h160v-160H180v160Zm440 0h160v-160H620v160ZM180-180h160v-160H180v160Zm440 0h160v-160H620v160Z\"/>\n",
              "  </svg>\n",
              "    </button>\n",
              "\n",
              "  <style>\n",
              "    .colab-df-container {\n",
              "      display:flex;\n",
              "      gap: 12px;\n",
              "    }\n",
              "\n",
              "    .colab-df-convert {\n",
              "      background-color: #E8F0FE;\n",
              "      border: none;\n",
              "      border-radius: 50%;\n",
              "      cursor: pointer;\n",
              "      display: none;\n",
              "      fill: #1967D2;\n",
              "      height: 32px;\n",
              "      padding: 0 0 0 0;\n",
              "      width: 32px;\n",
              "    }\n",
              "\n",
              "    .colab-df-convert:hover {\n",
              "      background-color: #E2EBFA;\n",
              "      box-shadow: 0px 1px 2px rgba(60, 64, 67, 0.3), 0px 1px 3px 1px rgba(60, 64, 67, 0.15);\n",
              "      fill: #174EA6;\n",
              "    }\n",
              "\n",
              "    .colab-df-buttons div {\n",
              "      margin-bottom: 4px;\n",
              "    }\n",
              "\n",
              "    [theme=dark] .colab-df-convert {\n",
              "      background-color: #3B4455;\n",
              "      fill: #D2E3FC;\n",
              "    }\n",
              "\n",
              "    [theme=dark] .colab-df-convert:hover {\n",
              "      background-color: #434B5C;\n",
              "      box-shadow: 0px 1px 3px 1px rgba(0, 0, 0, 0.15);\n",
              "      filter: drop-shadow(0px 1px 2px rgba(0, 0, 0, 0.3));\n",
              "      fill: #FFFFFF;\n",
              "    }\n",
              "  </style>\n",
              "\n",
              "    <script>\n",
              "      const buttonEl =\n",
              "        document.querySelector('#df-21ded327-cf69-42e3-89c0-9f05abc7ff75 button.colab-df-convert');\n",
              "      buttonEl.style.display =\n",
              "        google.colab.kernel.accessAllowed ? 'block' : 'none';\n",
              "\n",
              "      async function convertToInteractive(key) {\n",
              "        const element = document.querySelector('#df-21ded327-cf69-42e3-89c0-9f05abc7ff75');\n",
              "        const dataTable =\n",
              "          await google.colab.kernel.invokeFunction('convertToInteractive',\n",
              "                                                    [key], {});\n",
              "        if (!dataTable) return;\n",
              "\n",
              "        const docLinkHtml = 'Like what you see? Visit the ' +\n",
              "          '<a target=\"_blank\" href=https://colab.research.google.com/notebooks/data_table.ipynb>data table notebook</a>'\n",
              "          + ' to learn more about interactive tables.';\n",
              "        element.innerHTML = '';\n",
              "        dataTable['output_type'] = 'display_data';\n",
              "        await google.colab.output.renderOutput(dataTable, element);\n",
              "        const docLink = document.createElement('div');\n",
              "        docLink.innerHTML = docLinkHtml;\n",
              "        element.appendChild(docLink);\n",
              "      }\n",
              "    </script>\n",
              "  </div>\n",
              "\n",
              "\n",
              "<div id=\"df-ee38fadc-d73f-463d-bcaa-20ef61126711\">\n",
              "  <button class=\"colab-df-quickchart\" onclick=\"quickchart('df-ee38fadc-d73f-463d-bcaa-20ef61126711')\"\n",
              "            title=\"Suggest charts\"\n",
              "            style=\"display:none;\">\n",
              "\n",
              "<svg xmlns=\"http://www.w3.org/2000/svg\" height=\"24px\"viewBox=\"0 0 24 24\"\n",
              "     width=\"24px\">\n",
              "    <g>\n",
              "        <path d=\"M19 3H5c-1.1 0-2 .9-2 2v14c0 1.1.9 2 2 2h14c1.1 0 2-.9 2-2V5c0-1.1-.9-2-2-2zM9 17H7v-7h2v7zm4 0h-2V7h2v10zm4 0h-2v-4h2v4z\"/>\n",
              "    </g>\n",
              "</svg>\n",
              "  </button>\n",
              "\n",
              "<style>\n",
              "  .colab-df-quickchart {\n",
              "      --bg-color: #E8F0FE;\n",
              "      --fill-color: #1967D2;\n",
              "      --hover-bg-color: #E2EBFA;\n",
              "      --hover-fill-color: #174EA6;\n",
              "      --disabled-fill-color: #AAA;\n",
              "      --disabled-bg-color: #DDD;\n",
              "  }\n",
              "\n",
              "  [theme=dark] .colab-df-quickchart {\n",
              "      --bg-color: #3B4455;\n",
              "      --fill-color: #D2E3FC;\n",
              "      --hover-bg-color: #434B5C;\n",
              "      --hover-fill-color: #FFFFFF;\n",
              "      --disabled-bg-color: #3B4455;\n",
              "      --disabled-fill-color: #666;\n",
              "  }\n",
              "\n",
              "  .colab-df-quickchart {\n",
              "    background-color: var(--bg-color);\n",
              "    border: none;\n",
              "    border-radius: 50%;\n",
              "    cursor: pointer;\n",
              "    display: none;\n",
              "    fill: var(--fill-color);\n",
              "    height: 32px;\n",
              "    padding: 0;\n",
              "    width: 32px;\n",
              "  }\n",
              "\n",
              "  .colab-df-quickchart:hover {\n",
              "    background-color: var(--hover-bg-color);\n",
              "    box-shadow: 0 1px 2px rgba(60, 64, 67, 0.3), 0 1px 3px 1px rgba(60, 64, 67, 0.15);\n",
              "    fill: var(--button-hover-fill-color);\n",
              "  }\n",
              "\n",
              "  .colab-df-quickchart-complete:disabled,\n",
              "  .colab-df-quickchart-complete:disabled:hover {\n",
              "    background-color: var(--disabled-bg-color);\n",
              "    fill: var(--disabled-fill-color);\n",
              "    box-shadow: none;\n",
              "  }\n",
              "\n",
              "  .colab-df-spinner {\n",
              "    border: 2px solid var(--fill-color);\n",
              "    border-color: transparent;\n",
              "    border-bottom-color: var(--fill-color);\n",
              "    animation:\n",
              "      spin 1s steps(1) infinite;\n",
              "  }\n",
              "\n",
              "  @keyframes spin {\n",
              "    0% {\n",
              "      border-color: transparent;\n",
              "      border-bottom-color: var(--fill-color);\n",
              "      border-left-color: var(--fill-color);\n",
              "    }\n",
              "    20% {\n",
              "      border-color: transparent;\n",
              "      border-left-color: var(--fill-color);\n",
              "      border-top-color: var(--fill-color);\n",
              "    }\n",
              "    30% {\n",
              "      border-color: transparent;\n",
              "      border-left-color: var(--fill-color);\n",
              "      border-top-color: var(--fill-color);\n",
              "      border-right-color: var(--fill-color);\n",
              "    }\n",
              "    40% {\n",
              "      border-color: transparent;\n",
              "      border-right-color: var(--fill-color);\n",
              "      border-top-color: var(--fill-color);\n",
              "    }\n",
              "    60% {\n",
              "      border-color: transparent;\n",
              "      border-right-color: var(--fill-color);\n",
              "    }\n",
              "    80% {\n",
              "      border-color: transparent;\n",
              "      border-right-color: var(--fill-color);\n",
              "      border-bottom-color: var(--fill-color);\n",
              "    }\n",
              "    90% {\n",
              "      border-color: transparent;\n",
              "      border-bottom-color: var(--fill-color);\n",
              "    }\n",
              "  }\n",
              "</style>\n",
              "\n",
              "  <script>\n",
              "    async function quickchart(key) {\n",
              "      const quickchartButtonEl =\n",
              "        document.querySelector('#' + key + ' button');\n",
              "      quickchartButtonEl.disabled = true;  // To prevent multiple clicks.\n",
              "      quickchartButtonEl.classList.add('colab-df-spinner');\n",
              "      try {\n",
              "        const charts = await google.colab.kernel.invokeFunction(\n",
              "            'suggestCharts', [key], {});\n",
              "      } catch (error) {\n",
              "        console.error('Error during call to suggestCharts:', error);\n",
              "      }\n",
              "      quickchartButtonEl.classList.remove('colab-df-spinner');\n",
              "      quickchartButtonEl.classList.add('colab-df-quickchart-complete');\n",
              "    }\n",
              "    (() => {\n",
              "      let quickchartButtonEl =\n",
              "        document.querySelector('#df-ee38fadc-d73f-463d-bcaa-20ef61126711 button');\n",
              "      quickchartButtonEl.style.display =\n",
              "        google.colab.kernel.accessAllowed ? 'block' : 'none';\n",
              "    })();\n",
              "  </script>\n",
              "</div>\n",
              "\n",
              "    </div>\n",
              "  </div>\n"
            ],
            "application/vnd.google.colaboratory.intrinsic+json": {
              "type": "dataframe",
              "variable_name": "data",
              "summary": "{\n  \"name\": \"data\",\n  \"rows\": 9546,\n  \"fields\": [\n    {\n      \"column\": \"Student ID\",\n      \"properties\": {\n        \"dtype\": \"number\",\n        \"std\": 460,\n        \"min\": 26,\n        \"max\": 1565,\n        \"num_unique_values\": 372,\n        \"samples\": [\n          85,\n          659,\n          725\n        ],\n        \"semantic_type\": \"\",\n        \"description\": \"\"\n      }\n    },\n    {\n      \"column\": \"Student Country\",\n      \"properties\": {\n        \"dtype\": \"category\",\n        \"num_unique_values\": 8,\n        \"samples\": [\n          \"Portugal\",\n          \"Russian Federation\",\n          \"Ireland\"\n        ],\n        \"semantic_type\": \"\",\n        \"description\": \"\"\n      }\n    },\n    {\n      \"column\": \"Question ID\",\n      \"properties\": {\n        \"dtype\": \"number\",\n        \"std\": 249,\n        \"min\": 77,\n        \"max\": 1549,\n        \"num_unique_values\": 833,\n        \"samples\": [\n          867,\n          1481,\n          434\n        ],\n        \"semantic_type\": \"\",\n        \"description\": \"\"\n      }\n    },\n    {\n      \"column\": \"Type of Answer\",\n      \"properties\": {\n        \"dtype\": \"number\",\n        \"std\": 0,\n        \"min\": 0,\n        \"max\": 1,\n        \"num_unique_values\": 2,\n        \"samples\": [\n          1,\n          0\n        ],\n        \"semantic_type\": \"\",\n        \"description\": \"\"\n      }\n    },\n    {\n      \"column\": \"Question Level\",\n      \"properties\": {\n        \"dtype\": \"category\",\n        \"num_unique_values\": 2,\n        \"samples\": [\n          \"Advanced\",\n          \"Basic\"\n        ],\n        \"semantic_type\": \"\",\n        \"description\": \"\"\n      }\n    },\n    {\n      \"column\": \"Topic\",\n      \"properties\": {\n        \"dtype\": \"category\",\n        \"num_unique_values\": 14,\n        \"samples\": [\n          \"Complex Numbers\",\n          \"Analytic Geometry\"\n        ],\n        \"semantic_type\": \"\",\n        \"description\": \"\"\n      }\n    },\n    {\n      \"column\": \"Subtopic\",\n      \"properties\": {\n        \"dtype\": \"category\",\n        \"num_unique_values\": 24,\n        \"samples\": [\n          \"Partial Differentiation\",\n          \"Graph Theory\"\n        ],\n        \"semantic_type\": \"\",\n        \"description\": \"\"\n      }\n    },\n    {\n      \"column\": \"Keywords\",\n      \"properties\": {\n        \"dtype\": \"category\",\n        \"num_unique_values\": 365,\n        \"samples\": [\n          \"Polygons,Regular polygon\",\n          \"Trigonometric rules,Logarithmic rule\"\n        ],\n        \"semantic_type\": \"\",\n        \"description\": \"\"\n      }\n    }\n  ]\n}"
            }
          },
          "metadata": {},
          "execution_count": 29
        }
      ],
      "source": [
        "import pandas as pd\n",
        "file_path = '/content/MathE dataset (4).csv'\n",
        "data = pd.read_csv(file_path, sep=';', on_bad_lines='skip', encoding='latin-1')\n",
        "data.head()\n"
      ]
    },
    {
      "cell_type": "code",
      "source": [
        "# Display column names\n",
        "data.columns = data.columns.str.strip()\n",
        "# Display the first few rows of the dataset\n",
        "print(data.columns)\n"
      ],
      "metadata": {
        "colab": {
          "base_uri": "https://localhost:8080/"
        },
        "id": "bdwvNvGF5EC3",
        "outputId": "39731d37-7d2f-4b44-f077-2a7b3fd5393a"
      },
      "execution_count": 30,
      "outputs": [
        {
          "output_type": "stream",
          "name": "stdout",
          "text": [
            "Index(['Student ID', 'Student Country', 'Question ID', 'Type of Answer',\n",
            "       'Question Level', 'Topic', 'Subtopic', 'Keywords'],\n",
            "      dtype='object')\n"
          ]
        }
      ]
    },
    {
      "cell_type": "markdown",
      "source": [
        "#1.Identify the paper id which has most rated evaluation."
      ],
      "metadata": {
        "id": "OkQcvqVr8m6z"
      }
    },
    {
      "cell_type": "code",
      "source": [
        "most_evaluated_question = data['Question ID'].value_counts().idxmax()\n",
        "evaluation_count = data['Question ID'].value_counts().max()\n",
        "print(\"Most evaluated Question ID:\", most_evaluated_question)\n",
        "print(\"Number of evaluations:\", evaluation_count)\n"
      ],
      "metadata": {
        "colab": {
          "base_uri": "https://localhost:8080/"
        },
        "id": "lAd7MC1m5sC5",
        "outputId": "c5af5fb5-ed94-4939-f80c-179a44dc5c05"
      },
      "execution_count": 31,
      "outputs": [
        {
          "output_type": "stream",
          "name": "stdout",
          "text": [
            "Most evaluated Question ID: 452\n",
            "Number of evaluations: 103\n"
          ]
        }
      ]
    },
    {
      "cell_type": "markdown",
      "source": [
        "#2.List the top 5 papers with rating above 4 in different languages."
      ],
      "metadata": {
        "id": "ZhDdCAZL8ssb"
      }
    },
    {
      "cell_type": "code",
      "source": [
        "level_mapping = {'Basic': 1, 'Intermediate': 2, 'Advanced': 3}\n",
        "data['Question Level Numeric'] = data['Question Level'].map(level_mapping)\n",
        "high_level_questions = data[data['Question Level Numeric'] > 2]\n",
        "top_questions = high_level_questions['Question ID'].value_counts().head(5)\n",
        "print(\"Top 5 questions with highest levels:\")\n",
        "print(top_questions)"
      ],
      "metadata": {
        "colab": {
          "base_uri": "https://localhost:8080/"
        },
        "id": "tHlD1QXp55a8",
        "outputId": "0ccff937-cb6e-4184-bd82-22f8909af538"
      },
      "execution_count": 32,
      "outputs": [
        {
          "output_type": "stream",
          "name": "stdout",
          "text": [
            "Top 5 questions with highest levels:\n",
            "Question ID\n",
            "293    46\n",
            "440    44\n",
            "290    43\n",
            "289    40\n",
            "382    40\n",
            "Name: count, dtype: int64\n"
          ]
        }
      ]
    },
    {
      "cell_type": "markdown",
      "source": [
        "#3.Identify the highest and lowest confidence level of reviewer."
      ],
      "metadata": {
        "id": "SnaQjmjt8yxQ"
      }
    },
    {
      "cell_type": "code",
      "source": [
        "highest_confidence = data['Type of Answer'].max()\n",
        "lowest_confidence = data['Type of Answer'].min()\n",
        "print(\"Highest confidence level (Type of Answer):\", highest_confidence)\n",
        "print(\"Lowest confidence level (Type of Answer):\", lowest_confidence)"
      ],
      "metadata": {
        "colab": {
          "base_uri": "https://localhost:8080/"
        },
        "id": "iH70EiNH5-7g",
        "outputId": "62aafdbc-4a39-434d-c2ed-2f4ed9a53f4a"
      },
      "execution_count": 33,
      "outputs": [
        {
          "output_type": "stream",
          "name": "stdout",
          "text": [
            "Highest confidence level (Type of Answer): 1\n",
            "Lowest confidence level (Type of Answer): 0\n"
          ]
        }
      ]
    },
    {
      "cell_type": "markdown",
      "source": [
        "#4.Identify the min and max duration taken by review committee from prelimnary decision to acceptance or rejection?"
      ],
      "metadata": {
        "id": "rSeID1wM86rx"
      }
    },
    {
      "cell_type": "code",
      "source": [
        "min_level = data['Question Level Numeric'].min()\n",
        "max_level = data['Question Level Numeric'].max()\n",
        "print(\"Minimum question level:\", min_level)\n",
        "print(\"Maximum question level:\", max_level)"
      ],
      "metadata": {
        "colab": {
          "base_uri": "https://localhost:8080/"
        },
        "id": "8EY_Aacn6ClZ",
        "outputId": "bb2a452b-6497-4e2b-de49-652d0a77c4a5"
      },
      "execution_count": 34,
      "outputs": [
        {
          "output_type": "stream",
          "name": "stdout",
          "text": [
            "Minimum question level: 1\n",
            "Maximum question level: 3\n"
          ]
        }
      ]
    },
    {
      "cell_type": "markdown",
      "source": [
        "#5.List top 10 keywords related to most rated papers ?"
      ],
      "metadata": {
        "id": "k52rEMzT9Biy"
      }
    },
    {
      "cell_type": "code",
      "source": [
        "keywords = data['Keywords'].dropna().str.split(',').explode()\n",
        "from collections import Counter\n",
        "keyword_counts = Counter(keywords)\n",
        "top_keywords = keyword_counts.most_common(10)\n",
        "print(\"Top 10 keywords:\")\n",
        "for keyword, count in top_keywords:\n",
        "    print(f\"{keyword.strip()}: {count}\")"
      ],
      "metadata": {
        "colab": {
          "base_uri": "https://localhost:8080/"
        },
        "id": "Z7wGMoDG6GVw",
        "outputId": "b87ef5f8-2d48-4281-d1a1-c6ad54e5b141"
      },
      "execution_count": 35,
      "outputs": [
        {
          "output_type": "stream",
          "name": "stdout",
          "text": [
            "Top 10 keywords:\n",
            "Span: 1844\n",
            "Subspace: 1465\n",
            "Linear combination: 1254\n",
            "Basis: 1112\n",
            "Linear application: 824\n",
            "Linearity: 733\n",
            "Range: 713\n",
            "Kernel: 713\n",
            "Dimension: 615\n",
            "Isomorphism: 587\n"
          ]
        }
      ]
    }
  ]
}